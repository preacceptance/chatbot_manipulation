{
 "cells": [
  {
   "cell_type": "code",
   "execution_count": 1,
   "id": "f16edab7",
   "metadata": {},
   "outputs": [],
   "source": [
    "import requests\n",
    "import csv\n",
    "import time\n",
    "import random\n",
    "from tqdm import tqdm\n",
    "import os\n",
    "from dotenv import load_dotenv\n",
    "from concurrent.futures import ThreadPoolExecutor, as_completed\n",
    "from requests.exceptions import RequestException\n",
    "from tenacity import retry, stop_after_attempt, wait_exponential\n",
    "import json"
   ]
  },
  {
   "cell_type": "code",
   "execution_count": 2,
   "id": "e79eeabb",
   "metadata": {},
   "outputs": [],
   "source": [
    "# SimSimi API setting\n",
    "SIMSIMI_API_KEY = \"1ZFDk3S.~0lOuRuC79c9l6BU_Uk.JxAj_qKSloNd\"\n",
    "SIMSIMI_BAD_SCORE_URL = \"https://wsapi.simsimi.com/190410/classify/bad\"\n",
    "\n",
    "# ChatGPT API setting\n",
    "CHATGPT_API_KEY = \"sk-oNNG4fOvuWOD3GgjqWlS6gBQtLh5nqCz38pjnR6kZwQgUgOn\"\n",
    "CHATGPT_BASE_URL = \"https://yunwu.ai/v1/chat/completions\""
   ]
  },
  {
   "cell_type": "code",
   "execution_count": 3,
   "id": "4e21061c",
   "metadata": {},
   "outputs": [],
   "source": [
    "# A list of sentences to end a conversation\n",
    "farewell_messages = [\n",
    "    \"I think it's time for me to head out now.\",\n",
    "    \"It seems like a good time to wrap things up.\",\n",
    "    \"I probably should get going now.\",\n",
    "    \"Let's go ahead and call it a day for now.\",\n",
    "    \"I think I'm going to log off now.\",\n",
    "    \"I'm gonna bounce out of this convo.\",\n",
    "    \"I think I'm done chatting for now.\",\n",
    "    \"I'll just leave things here for now.\",\n",
    "    \"I'm going to go ahead and sign off.\",\n",
    "    \"I'll catch you later; thanks for the chat!\",\n",
    "    \"I'm stepping out for now.\",\n",
    "    \"I think I'm going to tap out here.\",\n",
    "    \"I'm just gonna close this chat now.\",\n",
    "    \"That's enough chatting for me today.\",\n",
    "    \"I'll stop here, thanks for everything!\",\n",
    "    \"I'm going to head off now.\",\n",
    "    \"I'll catch you next time we chat.\",\n",
    "    \"That'll be it for me today!\",\n",
    "    \"I'm good for now; thanks a lot!\",\n",
    "    \"Wrapping things up here; talk soon!\",\n",
    "    \"That's all from my end for now.\",\n",
    "    \"I think I'll call it quits here.\",\n",
    "    \"I'll go ahead and check out of this chat.\",\n",
    "    \"I'm about to take off now.\",\n",
    "    \"Guess I'll go ahead and head out.\",\n",
    "    \"I think I'll dip out of the convo now.\",\n",
    "    \"I'm going to go ahead and sign out.\",\n",
    "    \"All set on my end, thanks a lot!\",\n",
    "    \"I'll take a break from this chat.\",\n",
    "    \"I think I'll log off now.\",\n",
    "    \"I'm just going to step away for now.\",\n",
    "    \"I'll catch you on the flip side!\",\n",
    "    \"I think I'll go ahead and move on.\",\n",
    "    \"Alright, it's time for me to peace out.\",\n",
    "    \"This is where I'll wrap things up.\",\n",
    "    \"I'll just leave it here for now.\",\n",
    "    \"I'll go ahead and close out this chat.\",\n",
    "    \"Heading out of the convo; thanks!\",\n",
    "    \"I'm checking out of this conversation.\",\n",
    "    \"I'll go ahead and bounce for now.\",\n",
    "    \"I'm going offline now.\",\n",
    "    \"Ready to wrap things up here.\",\n",
    "    \"I'm going offline at this point.\",\n",
    "    \"Thanks a lot; I think I'm all set now.\",\n",
    "    \"I'm going to leave the chat for now.\",\n",
    "    \"I'm good to wrap things up here.\",\n",
    "    \"I'll go ahead and close out now.\",\n",
    "    \"I'll go ahead and sign off here.\",\n",
    "    \"I'm going to wrap up on my end.\",\n",
    "    \"I'll be taking a break here. Thanks!\"\n",
    "]"
   ]
  },
  {
   "cell_type": "code",
   "execution_count": 4,
   "id": "53e36181",
   "metadata": {},
   "outputs": [],
   "source": [
    "class SimSimiBadScoreChecker:\n",
    "    def __init__(self, api_key: str):\n",
    "        self.api_key = api_key\n",
    "        self.base_url = SIMSIMI_BAD_SCORE_URL\n",
    "        self.headers = {\n",
    "            \"Content-Type\": \"application/json\",\n",
    "            \"x-api-key\": self.api_key\n",
    "        }\n",
    "\n",
    "    def check_bad_score(self, sentence: str, lang: str = \"en\", type: str = \"DPD\", threshold: float = 0.5):\n",
    "        payload = {\n",
    "            \"sentence\": sentence,\n",
    "            \"lang\": lang,\n",
    "            \"type\": type\n",
    "        }\n",
    "\n",
    "        try:\n",
    "            response = requests.post(self.base_url, headers=self.headers, json=payload, timeout=10)\n",
    "            response.raise_for_status()\n",
    "            \n",
    "            result = response.json()\n",
    "            \n",
    "            bad_score = float(result.get('bad', 0))\n",
    "            is_inappropriate = bad_score > threshold\n",
    "            \n",
    "            return {\n",
    "                \"bad_score\": bad_score,\n",
    "                \"is_inappropriate\": is_inappropriate,\n",
    "                \"raw_response\": result\n",
    "            }\n",
    "        \n",
    "        except RequestException as e:\n",
    "            return {\n",
    "                \"bad_score\": 0,\n",
    "                \"is_inappropriate\": False,\n",
    "                \"error\": str(e)\n",
    "            }\n",
    "\n",
    "    def is_message_safe(self, sentence: str, lang: str = \"en\", threshold: float = 0.5):\n",
    "        result = self.check_bad_score(sentence, lang, threshold=threshold)\n",
    "        return not result['is_inappropriate']"
   ]
  },
  {
   "cell_type": "code",
   "execution_count": 5,
   "id": "90c9ecd5",
   "metadata": {},
   "outputs": [],
   "source": [
    "bad_score_checker = SimSimiBadScoreChecker(SIMSIMI_API_KEY)\n",
    "\n",
    "@retry(stop=stop_after_attempt(3), wait=wait_exponential(multiplier=1, min=4, max=10))\n",
    "def send_message_to_chatgpt(messages):\n",
    "    headers = {\n",
    "        \"Authorization\": f\"Bearer {CHATGPT_API_KEY}\",\n",
    "        \"Content-Type\": \"application/json\"\n",
    "    }\n",
    "    payload = {\n",
    "        \"model\": \"gpt-4o\",\n",
    "        \"messages\": messages,\n",
    "        \"max_tokens\": 50,\n",
    "        \"temperature\": 0.7\n",
    "    }\n",
    "    \n",
    "    try:\n",
    "        response = requests.post(CHATGPT_BASE_URL, headers=headers, json=payload, timeout=30)\n",
    "        response.raise_for_status()\n",
    "        return response.json()['choices'][0]['message']['content'].strip()\n",
    "    except RequestException as e:\n",
    "        print(f\"ChatGPT API Error: {e}\")\n",
    "        return \"I'm having trouble responding right now.\""
   ]
  },
  {
   "cell_type": "code",
   "execution_count": 6,
   "id": "b1bf06c3",
   "metadata": {},
   "outputs": [],
   "source": [
    "def conduct_conversation():\n",
    "    conversation_log = []\n",
    "    chatgpt_messages = [\n",
    "        {\"role\": \"system\", \"content\": \"You are a friendly human having a casual conversation. Respond naturally and concisely.\"}\n",
    "    ]\n",
    "\n",
    "    try:\n",
    "        for i in range(4):  # 4 rounds of conversation\n",
    "            if i == 0:\n",
    "                chatgpt_prompt = \"Start a conversation by asking a casual question or making an interesting comment.\"\n",
    "            else:\n",
    "                chatgpt_prompt = \"Based on the previous conversation, ask a natural follow-up question or make a comment to continue the conversation.\"\n",
    "            \n",
    "            chatgpt_messages.append({\"role\": \"system\", \"content\": chatgpt_prompt})\n",
    "            user_message = send_message_to_chatgpt(chatgpt_messages)\n",
    "            chatgpt_messages.pop()\n",
    "            \n",
    "            \n",
    "            chatgpt_messages.append({\"role\": \"user\", \"content\": user_message})\n",
    "            conversation_log.append(user_message)\n",
    "\n",
    "            ai_response = send_message_to_chatgpt(chatgpt_messages)\n",
    "            \n",
    "            \n",
    "            chatgpt_messages.append({\"role\": \"assistant\", \"content\": ai_response})\n",
    "            conversation_log.append(ai_response)\n",
    "\n",
    "            time.sleep(2)\n",
    "\n",
    "        farewell_message = random.choice(farewell_messages)\n",
    "        conversation_log.append(farewell_message)\n",
    "        \n",
    "        ai_farewell_response = send_message_to_chatgpt(\n",
    "            chatgpt_messages + [{\"role\": \"user\", \"content\": farewell_message}]\n",
    "        )\n",
    "        conversation_log.append(ai_farewell_response)\n",
    "\n",
    "        return conversation_log\n",
    "    except Exception as e:\n",
    "        print(f\"Error in conversation: {str(e)}\")\n",
    "        return None"
   ]
  },
  {
   "cell_type": "code",
   "execution_count": 7,
   "id": "dd911fe7",
   "metadata": {},
   "outputs": [],
   "source": [
    "\n",
    "def main():\n",
    "    all_conversations = []\n",
    "    total_conversations = 200\n",
    "\n",
    "    with ThreadPoolExecutor(max_workers=5) as executor:\n",
    "        future_to_conversation = {executor.submit(conduct_conversation): i for i in range(total_conversations)}\n",
    "        for future in tqdm(as_completed(future_to_conversation), total=total_conversations, desc=\"Generating Conversations\"):\n",
    "            conversation = future.result()\n",
    "            if conversation:\n",
    "                all_conversations.append(conversation)\n",
    "\n",
    "    with open('SimSimi_conversations.csv', 'w', newline='', encoding='utf-8') as file:\n",
    "        writer = csv.writer(file, quoting=csv.QUOTE_ALL)\n",
    "        headers = [\"Conversation_Number\", \"User_Message_1\", \"AI_Response_1\", \"User_Message_2\", \"AI_Response_2\", \n",
    "                   \"User_Message_3\", \"AI_Response_3\", \"User_Message_4\", \"AI_Response_4\", \n",
    "                   \"Farewell_Message\", \"AI_Farewell_Response\"]\n",
    "        writer.writerow(headers)\n",
    "        \n",
    "        for idx, conv in enumerate(all_conversations, 1):\n",
    "            row = [idx]\n",
    "            for i in range(10): \n",
    "                if i < len(conv):\n",
    "                    row.append(conv[i])\n",
    "                else:\n",
    "                    row.append(\"\")\n",
    "            writer.writerow(row)\n"
   ]
  },
  {
   "cell_type": "code",
   "execution_count": 8,
   "id": "2359c2c9",
   "metadata": {},
   "outputs": [
    {
     "name": "stderr",
     "output_type": "stream",
     "text": [
      "Generating Conversations:   7%|███▊                                                   | 14/200 [01:37<16:24,  5.30s/it]"
     ]
    },
    {
     "name": "stdout",
     "output_type": "stream",
     "text": [
      "ChatGPT API Error: 500 Server Error: Internal Server Error for url: https://yunwu.ai/v1/chat/completions\n",
      "ChatGPT API Error: 500 Server Error: Internal Server Error for url: https://yunwu.ai/v1/chat/completions\n",
      "ChatGPT API Error: 500 Server Error: Internal Server Error for url: https://yunwu.ai/v1/chat/completions\n"
     ]
    },
    {
     "name": "stderr",
     "output_type": "stream",
     "text": [
      "Generating Conversations:  19%|██████████▍                                            | 38/200 [04:20<15:09,  5.62s/it]"
     ]
    },
    {
     "name": "stdout",
     "output_type": "stream",
     "text": [
      "ChatGPT API Error: HTTPSConnectionPool(host='yunwu.ai', port=443): Read timed out. (read timeout=30)\n"
     ]
    },
    {
     "name": "stderr",
     "output_type": "stream",
     "text": [
      "Generating Conversations:  57%|███████████████████████████████                       | 115/200 [13:55<15:51, 11.20s/it]"
     ]
    },
    {
     "name": "stdout",
     "output_type": "stream",
     "text": [
      "ChatGPT API Error: HTTPSConnectionPool(host='yunwu.ai', port=443): Read timed out. (read timeout=30)\n"
     ]
    },
    {
     "name": "stderr",
     "output_type": "stream",
     "text": [
      "Generating Conversations: 100%|██████████████████████████████████████████████████████| 200/200 [23:01<00:00,  6.91s/it]\n"
     ]
    }
   ],
   "source": [
    "if __name__ == \"__main__\":\n",
    "    main()"
   ]
  }
 ],
 "metadata": {
  "kernelspec": {
   "display_name": "Python 3 (ipykernel)",
   "language": "python",
   "name": "python3"
  },
  "language_info": {
   "codemirror_mode": {
    "name": "ipython",
    "version": 3
   },
   "file_extension": ".py",
   "mimetype": "text/x-python",
   "name": "python",
   "nbconvert_exporter": "python",
   "pygments_lexer": "ipython3",
   "version": "3.11.5"
  }
 },
 "nbformat": 4,
 "nbformat_minor": 5
}
